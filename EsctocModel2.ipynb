{
 "cells": [
  {
   "cell_type": "code",
   "execution_count": 1,
   "metadata": {},
   "outputs": [],
   "source": [
    "import pandas as pd\n",
    "import matplotlib.pyplot as plt\n",
    "import datetime as dt\n",
    "import numpy as np\n",
    "from tqdm import tqdm"
   ]
  },
  {
   "cell_type": "markdown",
   "metadata": {},
   "source": [
    "# Funções"
   ]
  },
  {
   "cell_type": "code",
   "execution_count": 2,
   "metadata": {
    "code_folding": [
     0
    ]
   },
   "outputs": [],
   "source": [
    "def metrica_avaliacao(df, predict_column='risk_index',\n",
    "                      viaturas=3, number_random_executions=1): \n",
    "    sum_true = 0\n",
    "    sum_pred = 0\n",
    "    for month in df.month_number.unique():\n",
    "        df_m = df[df.month_number==month]\n",
    "        for dia in df_m.dia.unique():\n",
    "            df_d = df_m[df_m.dia==dia]\n",
    "            for p in df_d.periodo.unique():\n",
    "                df_p_real = df_d[df_d.periodo == p].copy()\n",
    "                df_p_pred = df_p_real.copy()\n",
    "                \n",
    "                sum_true += df_p_real.sort_values(\n",
    "                    by='acidentes_graves', ascending=False)['acidentes_graves'][:viaturas].sum()\n",
    "                sum_pred += df_p_pred.sort_values(\n",
    "                    by=predict_column, ascending=False)['acidentes_graves'][:viaturas].sum()\n",
    "                \n",
    "    return sum_true, sum_pred"
   ]
  },
  {
   "cell_type": "markdown",
   "metadata": {},
   "source": [
    "# Classe"
   ]
  },
  {
   "cell_type": "code",
   "execution_count": 3,
   "metadata": {
    "code_folding": [
     1,
     10,
     27,
     36,
     45,
     70,
     91,
     110,
     172
    ]
   },
   "outputs": [],
   "source": [
    "class WeightedProb:\n",
    "    def __init__(self, df, side_var_columns, train_til_year):\n",
    "        \n",
    "        self.df = df\n",
    "        self.side_var_columns = side_var_columns\n",
    "        self.train_til_year = train_til_year\n",
    "        \n",
    "        # inicializando os pesos\n",
    "        self.best_opt_weights = np.ones(len(side_var_columns))\n",
    "    \n",
    "    def get_mes_dia_mais_proximo(self, df_recorte, mes_in, dia_in, periodo_in):\n",
    "        meses = df_recorte.month_number.unique()\n",
    "        \n",
    "        if len(meses)>0:\n",
    "            mes_mais_prox = meses[np.argmin(np.abs(np.array(meses) - mes_in))]\n",
    "        \n",
    "            dias = df_recorte[(df_recorte['month_number']==mes_mais_prox)].dia.unique()\n",
    "            dia_mais_prox = dias[np.argmin(np.abs(np.array(dias) - dia_in))]\n",
    "\n",
    "            periodos = df_recorte[(df_recorte['month_number']==mes_mais_prox) &(df_recorte['dia']==dia_in)].periodo.unique()\n",
    "            \n",
    "            condition = (mes_mais_prox == mes_in) and (dia_mais_prox == dia_in) and (periodo_in in periodos)\n",
    "        else:\n",
    "            condition = False\n",
    "              \n",
    "        return condition \n",
    "    \n",
    "    def func_risk_index(self, dict_side_var_columns_probs, x):\n",
    "        risk=0\n",
    "        for i, sv in enumerate(self.side_var_columns):\n",
    "            try:\n",
    "                risk += dict_side_var_columns_probs[sv][x[sv]]*self.best_opt_weights[i]\n",
    "            except:\n",
    "                pass\n",
    "        return risk\n",
    "    \n",
    "    def func_risco_otimizando(self, dict_side_var_columns_probs, x):\n",
    "        risk=0\n",
    "        for i, sv in enumerate(self.side_var_columns):\n",
    "            try:\n",
    "                risk += dict_side_var_columns_probs[sv][x[sv]]*self.pop_opt_weights[i]\n",
    "            except:\n",
    "                pass\n",
    "        return risk\n",
    "    \n",
    "    def fit(self):\n",
    "\n",
    "        self.df_train = self.df[(self.df['ano'] <= self.train_til_year)]\n",
    "        \n",
    "        self.dict_side_var_columns_probs = {}\n",
    "\n",
    "        for sv in self.side_var_columns:\n",
    "            dict_uniques_sv_prob = {}\n",
    "            for u in self.df_train[sv].unique():\n",
    "                dict_uniques_sv_prob[u] = self.df_train[\n",
    "                    (self.df_train[sv]==u) & (\n",
    "                        self.df_train.acidentes_graves==1)].count(\n",
    "                ).values[0]/self.df_train[(self.df_train[sv]==u)].count().values[0]\n",
    "\n",
    "            self.dict_side_var_columns_probs[sv] = dict_uniques_sv_prob\n",
    "\n",
    "        self.df_train['risk_index'] = self.df_train[self.side_var_columns].apply((\n",
    "            lambda x: self.func_risk_index(self.dict_side_var_columns_probs, x)), axis=1)                      \n",
    "\n",
    "        for sv in self.side_var_columns:\n",
    "            column_name_prob = sv + \"_prob\"            \n",
    "            self.df_train[column_name_prob] = self.df_train[sv].apply(lambda x: self.dict_side_var_columns_probs[sv][x]) \n",
    "        \n",
    "        return self\n",
    "    \n",
    "    def predict(self, df_in):\n",
    "        \n",
    "        self.df_out = df_in.copy()        \n",
    "        self.df_out['risk_index'] = self.df_out[self.side_var_columns].apply(\n",
    "            (lambda x: self.func_risk_index(self.dict_side_var_columns_probs, x)), axis=1)\n",
    "        \n",
    "        return self.df_out.copy()\n",
    "    \n",
    "    def final_output(self, df_in):\n",
    "        neutral_df_1 = df_in.copy()\n",
    "        neutral_df_2 = df_in.copy()\n",
    "        neutral_df_1.condicao_meteorologica.iloc[:] = ['tempo_claro']*len(neutral_df_1)  \n",
    "        neutral_df_2.condicao_meteorologica.iloc[:] = ['tempo_adverso']*len(neutral_df_2)\n",
    "        \n",
    "        self.final_df = neutral_df_1.append(neutral_df_2)\n",
    "        \n",
    "        self.final_df['risk_index'] = self.final_df[self.side_var_columns].apply(\n",
    "            (lambda x: self.func_risk_index(self.dict_side_var_columns_probs, x)), axis=1)\n",
    "        \n",
    "        return self.final_df.copy()\n",
    "    \n",
    "    def metrica_avaliacao(self, df, predict_column='risk_index', real_column='acidentes_graves',\n",
    "                          viaturas=3):  \n",
    "        sum_true = 0\n",
    "        sum_pred = 0\n",
    "\n",
    "        for month in df.month_number.unique():\n",
    "            df_m = df[df.month_number==month]\n",
    "            for dia in df_m.dia.unique():\n",
    "                df_d = df_m[df_m.dia==dia]\n",
    "                for p in df_d.periodo.unique():\n",
    "                    df_p_real = df_d[df_d.periodo == p].copy()\n",
    "                    df_p_pred = df_p_real.copy()\n",
    "                    sum_true += df_p_real.sort_values(\n",
    "                        by=real_column, ascending=False)[real_column][:viaturas].sum()\n",
    "                    sum_pred += df_p_pred.sort_values(\n",
    "                        by=predict_column, ascending=False)[real_column][:viaturas].sum()\n",
    "\n",
    "        return sum_true, sum_pred\n",
    "\n",
    "    def optimize(self,\n",
    "                   df_objetivo,\n",
    "                   real_column=['mortos','feridos_graves'],\n",
    "                   predict_column='risco_otimizado',\n",
    "                   gama=0.5,\n",
    "                   viaturas=10,\n",
    "                   epochs=10,\n",
    "                   pop_size=100):\n",
    "        \n",
    "        df = self.predict(df_objetivo)\n",
    "        \n",
    "        best_sum_pred = 0\n",
    "        len_opt_weigths = len(self.best_opt_weights)\n",
    "        \n",
    "        sum_true, _ = self.metrica_avaliacao(df)\n",
    "\n",
    "        print('Objetivo:',sum_true)\n",
    "        \n",
    "        population = np.random.randn(pop_size,len_opt_weigths)\n",
    "        population[0,:] = self.best_opt_weights\n",
    "        fitness = np.zeros(pop_size)\n",
    "        \n",
    "        for z in range(epochs):\n",
    "            \n",
    "            for pop in range(population.shape[0]):\n",
    "                risco_otimizado = []\n",
    "                \n",
    "                self.pop_opt_weights = population[pop,:]\n",
    "\n",
    "                df[predict_column] = df[self.side_var_columns].apply((\n",
    "                                    lambda x: self.func_risco_otimizando(self.dict_side_var_columns_probs, x)), axis=1)  \n",
    "\n",
    "                _, sum_pred = self.metrica_avaliacao(df, predict_column=predict_column)\n",
    "                            \n",
    "                print(sum_true, sum_pred, pop)\n",
    "                fitness[pop] = (sum_true - sum_pred)\n",
    "            \n",
    "            best_fathers = population[fitness.argsort()][:int(population.shape[0]/2),:]\n",
    "            worst_fathers = population[fitness.argsort()][int(population.shape[0]/2):,:]\n",
    "            \n",
    "            for pop in range(population.shape[0]):\n",
    "                \n",
    "                if pop < 0.25*population.shape[0]:\n",
    "                    population[pop,:int(population.shape[1]*(population.shape[0]-pop)/population.shape[0])] = best_fathers[int(pop/2),:int(population.shape[1]*(population.shape[0]-pop)/population.shape[0])]\n",
    "                elif pop < 0.50*population.shape[0] and pop > 0.25*population.shape[0]:\n",
    "                    population[pop,:int(population.shape[1]*(population.shape[0]-pop)/population.shape[0])] = best_fathers[int(pop/2),:int(population.shape[1]*(population.shape[0]-pop)/population.shape[0])]\n",
    "                    population[pop,:] += np.random.randn(len_opt_weigths)\n",
    "                else:\n",
    "                    population[pop,:int(population.shape[1]*(population.shape[0]-pop)/population.shape[0])] = worst_fathers[int(pop/2),:int(population.shape[1]*(population.shape[0]-pop)/population.shape[0])]\n",
    "                    population[pop,:] += np.random.randn(len_opt_weigths)\n",
    "            \n",
    "            fitness.sort()\n",
    "            if fitness[0] < np.abs(sum_true - best_sum_pred):\n",
    "                best_sum_pred = sum_true - fitness[0]\n",
    "                best_opt_weights = best_fathers[0,:]\n",
    "            \n",
    "            print(best_sum_pred)\n",
    "            \n",
    "        self.best_opt_weights = best_opt_weights\n",
    "        \n",
    "        return sum_true, best_sum_pred\n",
    "    \n",
    "    def cross_val_lombra(self, year_test=[2016,2017,2018], caso='todos_no_GA'):\n",
    "        \n",
    "        self.cross_val_result = []\n",
    "        year_test = year_test\n",
    "        \n",
    "        for yt in year_test:\n",
    "            df_train = self.df[self.df.ano != yt]\n",
    "            df_test = self.df[self.df.ano == yt]\n",
    "            dict_side_var_columns_probs = {}\n",
    "            for sv in self.side_var_columns:\n",
    "                dict_uniques_sv_prob = {}\n",
    "                for u in df_train[sv].unique():\n",
    "                    dict_uniques_sv_prob[u] = df_train[\n",
    "                        (df_train[sv]==u) & (df_train.acidentes_graves==1)].count(\n",
    "                    ).values[0]/df_train[(df_train[sv]==u)].count().values[0]\n",
    "\n",
    "                dict_side_var_columns_probs[sv] = dict_uniques_sv_prob\n",
    "\n",
    "            df_train['risk_index'] = df_train[self.side_var_columns].apply((\n",
    "                lambda x: self.func_risk_index(dict_side_var_columns_probs, x)), axis=1)                      \n",
    "\n",
    "            for sv in self.side_var_columns:\n",
    "                column_name_prob = sv + \"_prob\"            \n",
    "                df_train[column_name_prob] = df_train[sv].apply(lambda x: dict_side_var_columns_probs[sv][x]) \n",
    "            \n",
    "            df_out = df_test.copy()        \n",
    "            df_out['risk_index'] = df_out[self.side_var_columns].apply(\n",
    "            (lambda x: self.func_risk_index(dict_side_var_columns_probs, x)), axis=1)\n",
    "            \n",
    "            sum_true, sum_pred = self.metrica_avaliacao(df_out)\n",
    "            \n",
    "            self.cross_val_result.append([yt, sum_true, sum_pred])\n",
    "            \n",
    "            df_out.to_csv('EvidenciaDuvida/'+str(yt)+caso+'.csv', index=None)\n",
    "            \n",
    "        return self"
   ]
  },
  {
   "cell_type": "markdown",
   "metadata": {},
   "source": [
    "## Open data"
   ]
  },
  {
   "cell_type": "code",
   "execution_count": 4,
   "metadata": {
    "code_folding": []
   },
   "outputs": [
    {
     "name": "stdout",
     "output_type": "stream",
     "text": [
      "['ignorada' 'tempo_claro' 'tempo_adverso']\n"
     ]
    },
    {
     "data": {
      "text/html": [
       "<div>\n",
       "<style scoped>\n",
       "    .dataframe tbody tr th:only-of-type {\n",
       "        vertical-align: middle;\n",
       "    }\n",
       "\n",
       "    .dataframe tbody tr th {\n",
       "        vertical-align: top;\n",
       "    }\n",
       "\n",
       "    .dataframe thead th {\n",
       "        text-align: right;\n",
       "    }\n",
       "</style>\n",
       "<table border=\"1\" class=\"dataframe\">\n",
       "  <thead>\n",
       "    <tr style=\"text-align: right;\">\n",
       "      <th></th>\n",
       "      <th>dia_semana</th>\n",
       "      <th>br</th>\n",
       "      <th>condicao_meteorologica</th>\n",
       "      <th>tipo_pista</th>\n",
       "      <th>tracado_via</th>\n",
       "      <th>uso_solo</th>\n",
       "      <th>mortos</th>\n",
       "      <th>feridos_leves</th>\n",
       "      <th>feridos_graves</th>\n",
       "      <th>ilesos</th>\n",
       "      <th>...</th>\n",
       "      <th>feridos</th>\n",
       "      <th>veiculos</th>\n",
       "      <th>feriado</th>\n",
       "      <th>km_bins</th>\n",
       "      <th>periodo</th>\n",
       "      <th>ano</th>\n",
       "      <th>month_number</th>\n",
       "      <th>dia</th>\n",
       "      <th>data</th>\n",
       "      <th>acidentes_graves</th>\n",
       "    </tr>\n",
       "  </thead>\n",
       "  <tbody>\n",
       "    <tr>\n",
       "      <th>0</th>\n",
       "      <td>terca</td>\n",
       "      <td>104</td>\n",
       "      <td>ignorada</td>\n",
       "      <td>dupla</td>\n",
       "      <td>reta</td>\n",
       "      <td>sim</td>\n",
       "      <td>0</td>\n",
       "      <td>0</td>\n",
       "      <td>0</td>\n",
       "      <td>0</td>\n",
       "      <td>...</td>\n",
       "      <td>0</td>\n",
       "      <td>0</td>\n",
       "      <td>not-feriado</td>\n",
       "      <td>[60, 65)</td>\n",
       "      <td>[8, 12)</td>\n",
       "      <td>2019</td>\n",
       "      <td>1</td>\n",
       "      <td>1</td>\n",
       "      <td>2019-01-01 00:00:00</td>\n",
       "      <td>0</td>\n",
       "    </tr>\n",
       "    <tr>\n",
       "      <th>1</th>\n",
       "      <td>terca</td>\n",
       "      <td>104</td>\n",
       "      <td>ignorada</td>\n",
       "      <td>dupla</td>\n",
       "      <td>reta</td>\n",
       "      <td>sim</td>\n",
       "      <td>0</td>\n",
       "      <td>0</td>\n",
       "      <td>0</td>\n",
       "      <td>0</td>\n",
       "      <td>...</td>\n",
       "      <td>0</td>\n",
       "      <td>0</td>\n",
       "      <td>not-feriado</td>\n",
       "      <td>[60, 65)</td>\n",
       "      <td>[16, 20)</td>\n",
       "      <td>2019</td>\n",
       "      <td>1</td>\n",
       "      <td>1</td>\n",
       "      <td>2019-01-01 00:00:00</td>\n",
       "      <td>0</td>\n",
       "    </tr>\n",
       "    <tr>\n",
       "      <th>2</th>\n",
       "      <td>terca</td>\n",
       "      <td>104</td>\n",
       "      <td>ignorada</td>\n",
       "      <td>dupla</td>\n",
       "      <td>reta</td>\n",
       "      <td>sim</td>\n",
       "      <td>0</td>\n",
       "      <td>0</td>\n",
       "      <td>0</td>\n",
       "      <td>0</td>\n",
       "      <td>...</td>\n",
       "      <td>0</td>\n",
       "      <td>0</td>\n",
       "      <td>not-feriado</td>\n",
       "      <td>[60, 65)</td>\n",
       "      <td>[20, 24)</td>\n",
       "      <td>2019</td>\n",
       "      <td>1</td>\n",
       "      <td>1</td>\n",
       "      <td>2019-01-01 00:00:00</td>\n",
       "      <td>0</td>\n",
       "    </tr>\n",
       "    <tr>\n",
       "      <th>3</th>\n",
       "      <td>terca</td>\n",
       "      <td>104</td>\n",
       "      <td>ignorada</td>\n",
       "      <td>dupla</td>\n",
       "      <td>reta</td>\n",
       "      <td>sim</td>\n",
       "      <td>0</td>\n",
       "      <td>0</td>\n",
       "      <td>0</td>\n",
       "      <td>0</td>\n",
       "      <td>...</td>\n",
       "      <td>0</td>\n",
       "      <td>0</td>\n",
       "      <td>not-feriado</td>\n",
       "      <td>[60, 65)</td>\n",
       "      <td>[12, 16)</td>\n",
       "      <td>2019</td>\n",
       "      <td>1</td>\n",
       "      <td>1</td>\n",
       "      <td>2019-01-01 00:00:00</td>\n",
       "      <td>0</td>\n",
       "    </tr>\n",
       "    <tr>\n",
       "      <th>4</th>\n",
       "      <td>terca</td>\n",
       "      <td>104</td>\n",
       "      <td>ignorada</td>\n",
       "      <td>dupla</td>\n",
       "      <td>reta</td>\n",
       "      <td>sim</td>\n",
       "      <td>0</td>\n",
       "      <td>0</td>\n",
       "      <td>0</td>\n",
       "      <td>0</td>\n",
       "      <td>...</td>\n",
       "      <td>0</td>\n",
       "      <td>0</td>\n",
       "      <td>not-feriado</td>\n",
       "      <td>[60, 65)</td>\n",
       "      <td>[4, 8)</td>\n",
       "      <td>2019</td>\n",
       "      <td>1</td>\n",
       "      <td>1</td>\n",
       "      <td>2019-01-01 00:00:00</td>\n",
       "      <td>0</td>\n",
       "    </tr>\n",
       "  </tbody>\n",
       "</table>\n",
       "<p>5 rows × 21 columns</p>\n",
       "</div>"
      ],
      "text/plain": [
       "  dia_semana   br condicao_meteorologica tipo_pista tracado_via uso_solo  \\\n",
       "0      terca  104               ignorada      dupla        reta      sim   \n",
       "1      terca  104               ignorada      dupla        reta      sim   \n",
       "2      terca  104               ignorada      dupla        reta      sim   \n",
       "3      terca  104               ignorada      dupla        reta      sim   \n",
       "4      terca  104               ignorada      dupla        reta      sim   \n",
       "\n",
       "   mortos  feridos_leves  feridos_graves  ilesos  ...  feridos  veiculos  \\\n",
       "0       0              0               0       0  ...        0         0   \n",
       "1       0              0               0       0  ...        0         0   \n",
       "2       0              0               0       0  ...        0         0   \n",
       "3       0              0               0       0  ...        0         0   \n",
       "4       0              0               0       0  ...        0         0   \n",
       "\n",
       "       feriado   km_bins   periodo   ano  month_number  dia  \\\n",
       "0  not-feriado  [60, 65)   [8, 12)  2019             1    1   \n",
       "1  not-feriado  [60, 65)  [16, 20)  2019             1    1   \n",
       "2  not-feriado  [60, 65)  [20, 24)  2019             1    1   \n",
       "3  not-feriado  [60, 65)  [12, 16)  2019             1    1   \n",
       "4  not-feriado  [60, 65)    [4, 8)  2019             1    1   \n",
       "\n",
       "                  data acidentes_graves  \n",
       "0  2019-01-01 00:00:00                0  \n",
       "1  2019-01-01 00:00:00                0  \n",
       "2  2019-01-01 00:00:00                0  \n",
       "3  2019-01-01 00:00:00                0  \n",
       "4  2019-01-01 00:00:00                0  \n",
       "\n",
       "[5 rows x 21 columns]"
      ]
     },
     "execution_count": 4,
     "metadata": {},
     "output_type": "execute_result"
    }
   ],
   "source": [
    "df = pd.read_csv('df_19_18_17_16_pad.csv')\n",
    "\n",
    "print(df.condicao_meteorologica.unique())\n",
    "\n",
    "df.drop(['index','km'],axis=1, inplace=True)\n",
    "\n",
    "df['acidentes_graves'] = df['mortos'\n",
    "                                    ]+df['feridos_graves']\n",
    "#                                     ]+df['feridos'\n",
    "#                                     ]+df['feridos_leves'\n",
    "#                                     ]+df['ilesos']\n",
    "\n",
    "df['acidentes_graves'] = df['acidentes_graves'].apply(lambda x: 1 if (x > 0) else 0)\n",
    "            \n",
    "df.head()"
   ]
  },
  {
   "cell_type": "markdown",
   "metadata": {},
   "source": [
    "## Ajuste"
   ]
  },
  {
   "cell_type": "code",
   "execution_count": 5,
   "metadata": {},
   "outputs": [],
   "source": [
    "df.dia_semana.replace(to_replace={'terca': 'terça','sabado': 'sábado'}, inplace=True)\n",
    "\n",
    "df.tracado_via.replace(to_replace={'interseção de vias':'curva','cruzamento':'curva','viaduto':'curva','retorno regulamentado':'curva',\n",
    "                                  'desvio temporário':'curva', 'ponte':'curva', 'rotatória':'curva'}, inplace=True)\n",
    "\n",
    "df.tipo_pista.replace(to_replace={'múltipla': 'dupla'}, inplace=True)"
   ]
  },
  {
   "cell_type": "markdown",
   "metadata": {
    "heading_collapsed": true
   },
   "source": [
    "## training"
   ]
  },
  {
   "cell_type": "code",
   "execution_count": 6,
   "metadata": {
    "hidden": true
   },
   "outputs": [
    {
     "name": "stderr",
     "output_type": "stream",
     "text": [
      "C:\\Users\\Hugo\\AppData\\Local\\Programs\\Python\\Python37\\lib\\site-packages\\ipykernel_launcher.py:63: SettingWithCopyWarning: \n",
      "A value is trying to be set on a copy of a slice from a DataFrame.\n",
      "Try using .loc[row_indexer,col_indexer] = value instead\n",
      "\n",
      "See the caveats in the documentation: https://pandas.pydata.org/pandas-docs/stable/user_guide/indexing.html#returning-a-view-versus-a-copy\n",
      "C:\\Users\\Hugo\\AppData\\Local\\Programs\\Python\\Python37\\lib\\site-packages\\ipykernel_launcher.py:67: SettingWithCopyWarning: \n",
      "A value is trying to be set on a copy of a slice from a DataFrame.\n",
      "Try using .loc[row_indexer,col_indexer] = value instead\n",
      "\n",
      "See the caveats in the documentation: https://pandas.pydata.org/pandas-docs/stable/user_guide/indexing.html#returning-a-view-versus-a-copy\n"
     ]
    },
    {
     "data": {
      "text/plain": [
       "<__main__.WeightedProb at 0x186dfa6fd48>"
      ]
     },
     "execution_count": 6,
     "metadata": {},
     "output_type": "execute_result"
    }
   ],
   "source": [
    "# km_bins vai fazer o papel do main.\n",
    "\n",
    "# tipo_pista', 'tracado_via' removidos por conta do problema do 1.\n",
    "side_var_columns = ['km_bins','br', 'uso_solo','periodo', 'condicao_meteorologica',\n",
    "                    'feriado', 'dia_semana','month_number','dia'] \n",
    "\n",
    "WPudo = WeightedProb(df, side_var_columns, train_til_year=2018)\n",
    "WPudo.fit()"
   ]
  },
  {
   "cell_type": "code",
   "execution_count": 7,
   "metadata": {},
   "outputs": [
    {
     "data": {
      "text/plain": [
       "{'km_bins': {'[105, 110)': 0.001141552511415525,\n",
       "  '[195, 200)': 0.0013698630136986301,\n",
       "  '[125, 130)': 0.0019786910197869103,\n",
       "  '[140, 145)': 0.001141552511415525,\n",
       "  '[110, 115)': 0.0013698630136986301,\n",
       "  '[120, 125)': 0.0009893455098934551,\n",
       "  '[130, 135)': 0.0013698630136986301,\n",
       "  '[185, 190)': 0.0012176560121765602,\n",
       "  '[100, 105)': 0.001141552511415525,\n",
       "  '[200, 205)': 0.0013698630136986301,\n",
       "  '[180, 185)': 0.0016742770167427702,\n",
       "  '[145, 150)': 0.0013698630136986301,\n",
       "  '[160, 165)': 0.00106544901065449,\n",
       "  '[205, 210)': 0.0006088280060882801,\n",
       "  '[135, 140)': 0.00106544901065449,\n",
       "  '[170, 175)': 0.0013698630136986301,\n",
       "  '[210, 215)': 0.0015220700152207,\n",
       "  '[165, 170)': 0.0013698630136986301,\n",
       "  '[115, 120)': 0.0012937595129375952,\n",
       "  '[190, 195)': 0.0009132420091324201,\n",
       "  '[175, 180)': 0.0015220700152207,\n",
       "  '[155, 160)': 0.0006088280060882801,\n",
       "  '[150, 155)': 0.0012176560121765602,\n",
       "  '[75, 80)': 0.0016742770167427702,\n",
       "  '[80, 85)': 0.0015220700152207,\n",
       "  '[50, 55)': 0.0015220700152207,\n",
       "  '[60, 65)': 0.00228310502283105,\n",
       "  '[65, 70)': 0.0027397260273972603,\n",
       "  '[35, 40)': 0.00076103500761035,\n",
       "  '[30, 35)': 0.00045662100456621003,\n",
       "  '[85, 90)': 0.0019786910197869103,\n",
       "  '[15, 20)': 0.0015220700152207,\n",
       "  '[25, 30)': 0.0015220700152207,\n",
       "  '[20, 25)': 0.0019786910197869103,\n",
       "  '[45, 50)': 0.00076103500761035,\n",
       "  '[40, 45)': 0.00076103500761035,\n",
       "  '[95, 100)': 0.00045662100456621003,\n",
       "  '[70, 75)': 0.00213089802130898,\n",
       "  '[55, 60)': 0.0012176560121765602,\n",
       "  '[90, 95)': 0.0009132420091324201,\n",
       "  '[10, 15)': 0.00022831050228310502,\n",
       "  '[0, 5)': 0.0,\n",
       "  '[5, 10)': 0.00045662100456621003},\n",
       " 'br': {232: 0.0015022169280656476, 104: 0.0010914355718899655},\n",
       " 'uso_solo': {'não': 0.0009924259029249166,\n",
       "  'sim': 0.0016550622075105581,\n",
       "  'rural': 0.0013577732518669382,\n",
       "  'urbano': 0.002003796667369753},\n",
       " 'periodo': {'[20, 24)': 0.0015785176449242492,\n",
       "  '[8, 12)': 0.0009253379297831806,\n",
       "  '[4, 8)': 0.0011067767395445886,\n",
       "  '[16, 20)': 0.0024494239317790077,\n",
       "  '[12, 16)': 0.0010342012156400254,\n",
       "  '[0, 4)': 0.0005806041912365054},\n",
       " 'condicao_meteorologica': {'tempo_claro': 0.003015208467031344,\n",
       "  'ignorada': 2.695911919165777e-05,\n",
       "  'tempo_adverso': 0.0025927106577409414},\n",
       " 'feriado': {'not-feriado': 0.0012270128743396285,\n",
       "  'feriado': 0.002425712553062462,\n",
       "  'pos-feriado': 0.003843466107617051,\n",
       "  'pre-feriado': 0.003484320557491289},\n",
       " 'dia_semana': {'segunda': 0.001540084388185654,\n",
       "  'terça': 0.000912718627950416,\n",
       "  'quarta': 0.0009339446425539141,\n",
       "  'quinta': 0.0007853625403294277,\n",
       "  'sexta': 0.001201923076923077,\n",
       "  'sábado': 0.0015070470368483615,\n",
       "  'domingo': 0.002066725715972837},\n",
       " 'month_number': {1: 0.0009969379762159083,\n",
       "  2: 0.0009735202492211838,\n",
       "  3: 0.0013885921811578722,\n",
       "  4: 0.0012141280353200883,\n",
       "  5: 0.0013529872534358755,\n",
       "  6: 0.0013980868285504047,\n",
       "  7: 0.0015666168197678559,\n",
       "  8: 0.0012105675425478886,\n",
       "  9: 0.0013612950699043414,\n",
       "  10: 0.0013529872534358755,\n",
       "  11: 0.0012141280353200883,\n",
       "  12: 0.0012961762799740765},\n",
       " 'dia': {1: 0.001839587932303164,\n",
       "  2: 0.0011957321559970568,\n",
       "  3: 0.0012877115526122149,\n",
       "  4: 0.0011037527593818985,\n",
       "  5: 0.0016556291390728477,\n",
       "  6: 0.0008278145695364238,\n",
       "  7: 0.0011957321559970568,\n",
       "  8: 0.0013796909492273732,\n",
       "  9: 0.0014716703458425313,\n",
       "  10: 0.0011957321559970568,\n",
       "  11: 0.0011957321559970568,\n",
       "  12: 0.0011037527593818985,\n",
       "  13: 0.0010117733627667404,\n",
       "  14: 0.0013796909492273732,\n",
       "  15: 0.0008278145695364238,\n",
       "  16: 0.0010117733627667404,\n",
       "  17: 0.0019315673289183224,\n",
       "  18: 0.0010117733627667404,\n",
       "  19: 0.0013796909492273732,\n",
       "  20: 0.0014716703458425313,\n",
       "  21: 0.0011957321559970568,\n",
       "  22: 0.0008278145695364238,\n",
       "  23: 0.0014716703458425313,\n",
       "  24: 0.0011037527593818985,\n",
       "  25: 0.0011037527593818985,\n",
       "  26: 0.0020235467255334807,\n",
       "  27: 0.0007358351729212656,\n",
       "  28: 0.0010117733627667404,\n",
       "  29: 0.0013621327106440942,\n",
       "  30: 0.0017057997190447522,\n",
       "  31: 0.001990049751243781}}"
      ]
     },
     "execution_count": 7,
     "metadata": {},
     "output_type": "execute_result"
    }
   ],
   "source": [
    "WPudo.dict_side_var_columns_probs"
   ]
  },
  {
   "cell_type": "markdown",
   "metadata": {},
   "source": [
    "## predicting"
   ]
  },
  {
   "cell_type": "code",
   "execution_count": 8,
   "metadata": {},
   "outputs": [],
   "source": [
    "df_2019 = df[df.ano==2019]"
   ]
  },
  {
   "cell_type": "code",
   "execution_count": 9,
   "metadata": {},
   "outputs": [],
   "source": [
    "df_2019_out = WPudo.predict(df_2019)"
   ]
  },
  {
   "cell_type": "code",
   "execution_count": 10,
   "metadata": {},
   "outputs": [
    {
     "data": {
      "text/plain": [
       "(156, 38)"
      ]
     },
     "execution_count": 10,
     "metadata": {},
     "output_type": "execute_result"
    }
   ],
   "source": [
    "metrica_avaliacao(df_2019_out, viaturas=3)"
   ]
  },
  {
   "cell_type": "code",
   "execution_count": 11,
   "metadata": {},
   "outputs": [
    {
     "name": "stderr",
     "output_type": "stream",
     "text": [
      "C:\\Users\\Hugo\\AppData\\Local\\Programs\\Python\\Python37\\lib\\site-packages\\pandas\\core\\indexing.py:670: SettingWithCopyWarning: \n",
      "A value is trying to be set on a copy of a slice from a DataFrame\n",
      "\n",
      "See the caveats in the documentation: https://pandas.pydata.org/pandas-docs/stable/user_guide/indexing.html#returning-a-view-versus-a-copy\n",
      "  self._setitem_with_indexer(indexer, value)\n"
     ]
    }
   ],
   "source": [
    "test_out_final = WPudo.final_output(df_2019)"
   ]
  },
  {
   "cell_type": "code",
   "execution_count": 14,
   "metadata": {},
   "outputs": [
    {
     "data": {
      "text/plain": [
       "array(['tempo_claro', 'tempo_adverso'], dtype=object)"
      ]
     },
     "execution_count": 14,
     "metadata": {},
     "output_type": "execute_result"
    }
   ],
   "source": [
    "test_out_final.condicao_meteorologica.unique()"
   ]
  },
  {
   "cell_type": "code",
   "execution_count": 12,
   "metadata": {},
   "outputs": [],
   "source": [
    "test_out_final.to_excel('teste_auto_final.xlsx')"
   ]
  },
  {
   "cell_type": "code",
   "execution_count": 25,
   "metadata": {},
   "outputs": [
    {
     "name": "stderr",
     "output_type": "stream",
     "text": [
      "Exception ignored in: <function ZipFile.__del__ at 0x000002411B736AE8>\n",
      "Traceback (most recent call last):\n",
      "  File \"C:\\Users\\hugow\\AppData\\Local\\Programs\\Python\\Python37\\lib\\zipfile.py\", line 1789, in __del__\n",
      "    self.close()\n",
      "  File \"C:\\Users\\hugow\\AppData\\Local\\Programs\\Python\\Python37\\lib\\zipfile.py\", line 1798, in close\n",
      "    raise ValueError(\"Can't close the ZIP file while there is \"\n",
      "ValueError: Can't close the ZIP file while there is an open writing handle on it. Close the writing handle before closing the zip.\n"
     ]
    }
   ],
   "source": [
    "df_2019_out.to_excel('EvidenciaDuvida/2019sograve_no_GA.xlsx')"
   ]
  },
  {
   "cell_type": "markdown",
   "metadata": {},
   "source": [
    "## Cross Validation"
   ]
  },
  {
   "cell_type": "code",
   "execution_count": 26,
   "metadata": {},
   "outputs": [
    {
     "name": "stderr",
     "output_type": "stream",
     "text": [
      "C:\\Users\\hugow\\AppData\\Local\\Programs\\Python\\Python37\\lib\\site-packages\\ipykernel_launcher.py:179: SettingWithCopyWarning: \n",
      "A value is trying to be set on a copy of a slice from a DataFrame.\n",
      "Try using .loc[row_indexer,col_indexer] = value instead\n",
      "\n",
      "See the caveats in the documentation: http://pandas.pydata.org/pandas-docs/stable/user_guide/indexing.html#returning-a-view-versus-a-copy\n",
      "C:\\Users\\hugow\\AppData\\Local\\Programs\\Python\\Python37\\lib\\site-packages\\ipykernel_launcher.py:183: SettingWithCopyWarning: \n",
      "A value is trying to be set on a copy of a slice from a DataFrame.\n",
      "Try using .loc[row_indexer,col_indexer] = value instead\n",
      "\n",
      "See the caveats in the documentation: http://pandas.pydata.org/pandas-docs/stable/user_guide/indexing.html#returning-a-view-versus-a-copy\n"
     ]
    },
    {
     "data": {
      "text/plain": [
       "<__main__.WeightedProb at 0x241509f7b70>"
      ]
     },
     "execution_count": 26,
     "metadata": {},
     "output_type": "execute_result"
    }
   ],
   "source": [
    "WPudo.cross_val_lombra(year_test=[2016, 2017, 2018], caso='sograve_no_GA')"
   ]
  },
  {
   "cell_type": "code",
   "execution_count": 27,
   "metadata": {},
   "outputs": [
    {
     "data": {
      "text/plain": [
       "[[2016, 173, 25], [2017, 144, 20], [2018, 106, 21]]"
      ]
     },
     "execution_count": 27,
     "metadata": {},
     "output_type": "execute_result"
    }
   ],
   "source": [
    "WPudo.cross_val_result"
   ]
  },
  {
   "cell_type": "code",
   "execution_count": null,
   "metadata": {},
   "outputs": [],
   "source": [
    "WPudo.best_opt_weights"
   ]
  },
  {
   "cell_type": "markdown",
   "metadata": {},
   "source": [
    "## otimizando"
   ]
  },
  {
   "cell_type": "code",
   "execution_count": null,
   "metadata": {
    "hidden": true
   },
   "outputs": [
    {
     "name": "stdout",
     "output_type": "stream",
     "text": [
      "Objetivo: 353\n",
      "353 108 0\n",
      "353 41 1\n",
      "353 36 2\n",
      "353 21 3\n",
      "353 46 4\n",
      "353 48 5\n",
      "353 82 6\n",
      "353 23 7\n",
      "353 89 8\n",
      "353 29 9\n",
      "353 55 10\n",
      "353 26 11\n",
      "353 4 12\n",
      "353 19 13\n",
      "353 22 14\n",
      "353 39 15\n",
      "353 11 16\n",
      "353 14 17\n",
      "353 25 18\n",
      "353 2 19\n",
      "108.0\n",
      "353 108 0\n",
      "353 108 1\n",
      "353 89 2\n",
      "353 89 3\n",
      "353 82 4\n",
      "353 39 5\n",
      "353 50 6\n",
      "353 65 7\n",
      "353 22 8\n",
      "353 74 9\n",
      "353 13 10\n",
      "353 27 11\n",
      "353 1 12\n",
      "353 2 13\n",
      "353 13 14\n",
      "353 10 15\n",
      "353 29 16\n",
      "353 4 17\n",
      "353 3 18\n",
      "353 1 19\n",
      "108.0\n",
      "353 108 0\n",
      "353 108 1\n",
      "353 108 2\n",
      "353 108 3\n",
      "353 89 4\n",
      "353 17 5\n",
      "353 105 6\n",
      "353 106 7\n",
      "353 74 8\n",
      "353 92 9\n",
      "353 11 10\n",
      "353 26 11\n",
      "353 3 12\n",
      "353 5 13\n",
      "353 1 14\n",
      "353 5 15\n",
      "353 37 16\n",
      "353 10 17\n",
      "353 3 18\n",
      "353 7 19\n",
      "108.0\n",
      "353 108 0\n",
      "353 108 1\n",
      "353 108 2\n",
      "353 108 3\n",
      "353 108 4\n",
      "353 14 5\n",
      "353 73 6\n",
      "353 84 7\n",
      "353 97 8\n",
      "353 95 9\n",
      "353 5 10\n",
      "353 85 11\n",
      "353 16 12\n",
      "353 12 13\n",
      "353 5 14\n",
      "353 41 15\n",
      "353 36 16\n",
      "353 29 17\n"
     ]
    }
   ],
   "source": [
    "WPudo.optimize(viaturas=3, df_objetivo=df_2019_out, pop_size=20, epochs=5)"
   ]
  },
  {
   "cell_type": "code",
   "execution_count": null,
   "metadata": {},
   "outputs": [],
   "source": [
    "df_2019_opt = WPudo.predict(df_2019_out)"
   ]
  },
  {
   "cell_type": "code",
   "execution_count": null,
   "metadata": {},
   "outputs": [],
   "source": [
    "metrica_avaliacao(df_2019_opt, viaturas=3)"
   ]
  },
  {
   "cell_type": "code",
   "execution_count": null,
   "metadata": {},
   "outputs": [],
   "source": [
    "WPudo.best_opt_weights"
   ]
  },
  {
   "cell_type": "code",
   "execution_count": null,
   "metadata": {},
   "outputs": [],
   "source": [
    "df_2019_opt.to_csv('EvidenciaDuvida/2019todos_yes_GA.xlsx')"
   ]
  },
  {
   "cell_type": "markdown",
   "metadata": {},
   "source": [
    "## Cross Validation"
   ]
  },
  {
   "cell_type": "code",
   "execution_count": null,
   "metadata": {},
   "outputs": [],
   "source": [
    "WPudo.cross_val_lombra(caso='todos_yes_GA')"
   ]
  },
  {
   "cell_type": "code",
   "execution_count": null,
   "metadata": {},
   "outputs": [],
   "source": [
    "WPudo.cross_val_result"
   ]
  },
  {
   "cell_type": "code",
   "execution_count": null,
   "metadata": {},
   "outputs": [],
   "source": []
  }
 ],
 "metadata": {
  "kernelspec": {
   "display_name": "Python 3",
   "language": "python",
   "name": "python3"
  },
  "language_info": {
   "codemirror_mode": {
    "name": "ipython",
    "version": 3
   },
   "file_extension": ".py",
   "mimetype": "text/x-python",
   "name": "python",
   "nbconvert_exporter": "python",
   "pygments_lexer": "ipython3",
   "version": "3.7.6"
  }
 },
 "nbformat": 4,
 "nbformat_minor": 4
}
