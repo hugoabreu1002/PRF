{
 "cells": [
  {
   "cell_type": "code",
   "execution_count": 1,
   "metadata": {},
   "outputs": [],
   "source": [
    "import pandas as pd\n",
    "import matplotlib.pyplot as plt\n",
    "import datetime as dt\n",
    "import numpy as np\n",
    "from tqdm import tqdm\n",
    "import numpy as np\n",
    "from sklearn.decomposition import MiniBatchDictionaryLearning\n",
    "from sklearn.preprocessing import LabelEncoder\n",
    "from mpl_toolkits.mplot3d import Axes3D  # noqa: F401 unused import\n",
    "import matplotlib.pyplot as plt\n",
    "import xgboost as xgb\n",
    "from sklearn.metrics import accuracy_score"
   ]
  },
  {
   "cell_type": "markdown",
   "metadata": {},
   "source": [
    "# Funções"
   ]
  },
  {
   "cell_type": "code",
   "execution_count": 2,
   "metadata": {
    "code_folding": []
   },
   "outputs": [],
   "source": [
    "def metrica_avaliacao(df, real_columns = 'acidentes_graves', predict_column='risk_index', viaturas=2, number_random_executions=1):\n",
    "\n",
    "    sum_true = 0\n",
    "    sum_pred = 0\n",
    "    \n",
    "    for month in df.month_number.unique():\n",
    "        df_m = df[df.month_number==month]\n",
    "        for dia in df_m.dia.unique():\n",
    "            df_d = df_m[df_m.dia==dia]\n",
    "            for p in df_d.periodo.unique():\n",
    "                df_p_real = df_d[df_d.periodo == p].copy()\n",
    "                df_p_pred = df_p_real.copy()\n",
    "                \n",
    "                sum_true += df_p_real.sort_values(by='acidentes_graves', ascending=False)['acidentes_graves'][:viaturas].sum()\n",
    "                sum_pred += df_p_pred.sort_values(by=predict_column, ascending=False)['acidentes_graves'][:viaturas].sum()\n",
    "                \n",
    "    return sum_true, sum_pred"
   ]
  },
  {
   "cell_type": "markdown",
   "metadata": {
    "heading_collapsed": true
   },
   "source": [
    "# Read Data Orig"
   ]
  },
  {
   "cell_type": "code",
   "execution_count": 3,
   "metadata": {
    "hidden": true
   },
   "outputs": [
    {
     "name": "stdout",
     "output_type": "stream",
     "text": [
      "['tempo_claro' 'ignorada' 'tempo_adverso']\n"
     ]
    },
    {
     "data": {
      "text/html": [
       "<div>\n",
       "<style scoped>\n",
       "    .dataframe tbody tr th:only-of-type {\n",
       "        vertical-align: middle;\n",
       "    }\n",
       "\n",
       "    .dataframe tbody tr th {\n",
       "        vertical-align: top;\n",
       "    }\n",
       "\n",
       "    .dataframe thead th {\n",
       "        text-align: right;\n",
       "    }\n",
       "</style>\n",
       "<table border=\"1\" class=\"dataframe\">\n",
       "  <thead>\n",
       "    <tr style=\"text-align: right;\">\n",
       "      <th></th>\n",
       "      <th>dia_semana</th>\n",
       "      <th>br</th>\n",
       "      <th>km</th>\n",
       "      <th>condicao_meteorologica</th>\n",
       "      <th>tipo_pista</th>\n",
       "      <th>tracado_via</th>\n",
       "      <th>uso_solo</th>\n",
       "      <th>mortos</th>\n",
       "      <th>feridos_leves</th>\n",
       "      <th>feridos_graves</th>\n",
       "      <th>...</th>\n",
       "      <th>feridos</th>\n",
       "      <th>veiculos</th>\n",
       "      <th>feriado</th>\n",
       "      <th>km_bins</th>\n",
       "      <th>periodo</th>\n",
       "      <th>ano</th>\n",
       "      <th>month_number</th>\n",
       "      <th>dia</th>\n",
       "      <th>data</th>\n",
       "      <th>acidentes_graves</th>\n",
       "    </tr>\n",
       "  </thead>\n",
       "  <tbody>\n",
       "    <tr>\n",
       "      <th>62572</th>\n",
       "      <td>domingo</td>\n",
       "      <td>104.0</td>\n",
       "      <td>48.4</td>\n",
       "      <td>tempo_claro</td>\n",
       "      <td>dupla</td>\n",
       "      <td>reta</td>\n",
       "      <td>não</td>\n",
       "      <td>0</td>\n",
       "      <td>1</td>\n",
       "      <td>0</td>\n",
       "      <td>...</td>\n",
       "      <td>1</td>\n",
       "      <td>1</td>\n",
       "      <td>not-feriado</td>\n",
       "      <td>[45, 50)</td>\n",
       "      <td>[16, 20)</td>\n",
       "      <td>2017</td>\n",
       "      <td>1</td>\n",
       "      <td>1</td>\n",
       "      <td>2017-01-01 19:35:00</td>\n",
       "      <td>0</td>\n",
       "    </tr>\n",
       "    <tr>\n",
       "      <th>62575</th>\n",
       "      <td>domingo</td>\n",
       "      <td>232.0</td>\n",
       "      <td>142.0</td>\n",
       "      <td>tempo_claro</td>\n",
       "      <td>dupla</td>\n",
       "      <td>reta</td>\n",
       "      <td>não</td>\n",
       "      <td>0</td>\n",
       "      <td>0</td>\n",
       "      <td>0</td>\n",
       "      <td>...</td>\n",
       "      <td>0</td>\n",
       "      <td>2</td>\n",
       "      <td>not-feriado</td>\n",
       "      <td>[140, 145)</td>\n",
       "      <td>[20, 24)</td>\n",
       "      <td>2017</td>\n",
       "      <td>1</td>\n",
       "      <td>1</td>\n",
       "      <td>2017-01-01 22:00:00</td>\n",
       "      <td>0</td>\n",
       "    </tr>\n",
       "    <tr>\n",
       "      <th>62583</th>\n",
       "      <td>segunda</td>\n",
       "      <td>232.0</td>\n",
       "      <td>201.0</td>\n",
       "      <td>tempo_claro</td>\n",
       "      <td>simples</td>\n",
       "      <td>reta</td>\n",
       "      <td>não</td>\n",
       "      <td>0</td>\n",
       "      <td>0</td>\n",
       "      <td>0</td>\n",
       "      <td>...</td>\n",
       "      <td>0</td>\n",
       "      <td>6</td>\n",
       "      <td>not-feriado</td>\n",
       "      <td>[200, 205)</td>\n",
       "      <td>[16, 20)</td>\n",
       "      <td>2017</td>\n",
       "      <td>1</td>\n",
       "      <td>2</td>\n",
       "      <td>2017-01-02 17:00:00</td>\n",
       "      <td>0</td>\n",
       "    </tr>\n",
       "    <tr>\n",
       "      <th>62600</th>\n",
       "      <td>quarta</td>\n",
       "      <td>232.0</td>\n",
       "      <td>184.8</td>\n",
       "      <td>tempo_claro</td>\n",
       "      <td>simples</td>\n",
       "      <td>desvio temporário</td>\n",
       "      <td>não</td>\n",
       "      <td>0</td>\n",
       "      <td>0</td>\n",
       "      <td>0</td>\n",
       "      <td>...</td>\n",
       "      <td>0</td>\n",
       "      <td>2</td>\n",
       "      <td>not-feriado</td>\n",
       "      <td>[180, 185)</td>\n",
       "      <td>[8, 12)</td>\n",
       "      <td>2017</td>\n",
       "      <td>1</td>\n",
       "      <td>4</td>\n",
       "      <td>2017-01-04 10:00:00</td>\n",
       "      <td>0</td>\n",
       "    </tr>\n",
       "    <tr>\n",
       "      <th>62621</th>\n",
       "      <td>sexta</td>\n",
       "      <td>104.0</td>\n",
       "      <td>71.0</td>\n",
       "      <td>tempo_claro</td>\n",
       "      <td>dupla</td>\n",
       "      <td>curva</td>\n",
       "      <td>não</td>\n",
       "      <td>0</td>\n",
       "      <td>0</td>\n",
       "      <td>0</td>\n",
       "      <td>...</td>\n",
       "      <td>0</td>\n",
       "      <td>1</td>\n",
       "      <td>not-feriado</td>\n",
       "      <td>[70, 75)</td>\n",
       "      <td>[20, 24)</td>\n",
       "      <td>2017</td>\n",
       "      <td>1</td>\n",
       "      <td>6</td>\n",
       "      <td>2017-01-06 20:55:00</td>\n",
       "      <td>0</td>\n",
       "    </tr>\n",
       "  </tbody>\n",
       "</table>\n",
       "<p>5 rows × 22 columns</p>\n",
       "</div>"
      ],
      "text/plain": [
       "      dia_semana     br     km condicao_meteorologica tipo_pista  \\\n",
       "62572    domingo  104.0   48.4            tempo_claro      dupla   \n",
       "62575    domingo  232.0  142.0            tempo_claro      dupla   \n",
       "62583    segunda  232.0  201.0            tempo_claro    simples   \n",
       "62600     quarta  232.0  184.8            tempo_claro    simples   \n",
       "62621      sexta  104.0   71.0            tempo_claro      dupla   \n",
       "\n",
       "             tracado_via uso_solo  mortos  feridos_leves  feridos_graves  ...  \\\n",
       "62572               reta      não       0              1               0  ...   \n",
       "62575               reta      não       0              0               0  ...   \n",
       "62583               reta      não       0              0               0  ...   \n",
       "62600  desvio temporário      não       0              0               0  ...   \n",
       "62621              curva      não       0              0               0  ...   \n",
       "\n",
       "       feridos  veiculos      feriado     km_bins   periodo   ano  \\\n",
       "62572        1         1  not-feriado    [45, 50)  [16, 20)  2017   \n",
       "62575        0         2  not-feriado  [140, 145)  [20, 24)  2017   \n",
       "62583        0         6  not-feriado  [200, 205)  [16, 20)  2017   \n",
       "62600        0         2  not-feriado  [180, 185)   [8, 12)  2017   \n",
       "62621        0         1  not-feriado    [70, 75)  [20, 24)  2017   \n",
       "\n",
       "      month_number  dia                data  acidentes_graves  \n",
       "62572            1    1 2017-01-01 19:35:00                 0  \n",
       "62575            1    1 2017-01-01 22:00:00                 0  \n",
       "62583            1    2 2017-01-02 17:00:00                 0  \n",
       "62600            1    4 2017-01-04 10:00:00                 0  \n",
       "62621            1    6 2017-01-06 20:55:00                 0  \n",
       "\n",
       "[5 rows x 22 columns]"
      ]
     },
     "execution_count": 3,
     "metadata": {},
     "output_type": "execute_result"
    }
   ],
   "source": [
    "df = pd.read_csv('data/partial_pedataset.csv')\n",
    "\n",
    "clima_replace = {\n",
    "    'sol': 'tempo_claro',\n",
    "    'céu_claro': 'tempo_claro',\n",
    "    'ignorado': 'ignorado',\n",
    "    'chuva': 'tempo_adverso',\n",
    "    'nublado': 'tempo_adverso',\n",
    "    'nevoeiro_neblina': 'tempo_adverso'\n",
    "}\n",
    "\n",
    "for d in clima_replace:\n",
    "    df.condicao_meteorologica.replace(to_replace=d,\n",
    "                                      value=clima_replace[d],\n",
    "                                      inplace=True)\n",
    "\n",
    "print(df.condicao_meteorologica.unique())\n",
    "\n",
    "df.drop(['mes'], axis=1, inplace=True)\n",
    "df['dia'] = [int(str(d)[8:10]) for d in pd.to_datetime(df['timestamp'])]\n",
    "df['data'] = pd.to_datetime(df.timestamp, yearfirst=True, errors='ignore')\n",
    "df.drop([\n",
    "    'timestamp', 'municipio', 'tipo_acidente', 'classificacao_acidente', 'fase_dia',\n",
    "    'sentido_via', 'pessoas', 'label','causa_acidente','uf'],axis=1, inplace=True)\n",
    "\n",
    "df = df[((df['br']==104) | (df['br']==232) & (df['km']>=102)& (df['km']<=213)) & (df['ano']>2016)]\n",
    "df['acidentes_graves'] = df['mortos']+df['feridos_graves']\n",
    "df['acidentes_graves'].apply(lambda x: 1 if (x > 0) else 0)\n",
    "df.head()"
   ]
  },
  {
   "cell_type": "markdown",
   "metadata": {},
   "source": [
    "# Read Padded"
   ]
  },
  {
   "cell_type": "code",
   "execution_count": 4,
   "metadata": {},
   "outputs": [],
   "source": [
    "df_tudo_pad = pd.read_csv('df_19_18_17_16_pad.csv')"
   ]
  },
  {
   "cell_type": "code",
   "execution_count": 5,
   "metadata": {},
   "outputs": [
    {
     "data": {
      "text/plain": [
       "Index(['index', 'dia_semana', 'br', 'km', 'condicao_meteorologica',\n",
       "       'tipo_pista', 'tracado_via', 'uso_solo', 'mortos', 'feridos_leves',\n",
       "       'feridos_graves', 'ilesos', 'ignorados', 'feridos', 'veiculos',\n",
       "       'feriado', 'km_bins', 'periodo', 'ano', 'month_number', 'dia', 'data'],\n",
       "      dtype='object')"
      ]
     },
     "execution_count": 5,
     "metadata": {},
     "output_type": "execute_result"
    }
   ],
   "source": [
    "df_tudo_pad.columns"
   ]
  },
  {
   "cell_type": "code",
   "execution_count": 6,
   "metadata": {},
   "outputs": [],
   "source": [
    "df_tudo_pad['acidentes_graves'] = df_tudo_pad['mortos'\n",
    "                                    ]+df_tudo_pad['feridos_graves'\n",
    "                                    ]+df_tudo_pad['feridos'\n",
    "                                    ]+df_tudo_pad['feridos_leves'\n",
    "                                    ]+df_tudo_pad['ilesos']\n",
    "\n",
    "df_tudo_pad['acidentes_graves'] = df_tudo_pad['acidentes_graves'].apply(lambda x: 1 if (x > 0) else 0)"
   ]
  },
  {
   "cell_type": "code",
   "execution_count": 7,
   "metadata": {},
   "outputs": [
    {
     "data": {
      "text/plain": [
       "array([0, 1], dtype=int64)"
      ]
     },
     "execution_count": 7,
     "metadata": {},
     "output_type": "execute_result"
    }
   ],
   "source": [
    "df_tudo_pad['acidentes_graves'].unique()"
   ]
  },
  {
   "cell_type": "code",
   "execution_count": 8,
   "metadata": {},
   "outputs": [
    {
     "data": {
      "text/plain": [
       "0    431471\n",
       "1      2149\n",
       "Name: acidentes_graves, dtype: int64"
      ]
     },
     "execution_count": 8,
     "metadata": {},
     "output_type": "execute_result"
    }
   ],
   "source": [
    "df_tudo_pad['acidentes_graves'].value_counts()"
   ]
  },
  {
   "cell_type": "code",
   "execution_count": 9,
   "metadata": {},
   "outputs": [
    {
     "data": {
      "text/html": [
       "<div>\n",
       "<style scoped>\n",
       "    .dataframe tbody tr th:only-of-type {\n",
       "        vertical-align: middle;\n",
       "    }\n",
       "\n",
       "    .dataframe tbody tr th {\n",
       "        vertical-align: top;\n",
       "    }\n",
       "\n",
       "    .dataframe thead th {\n",
       "        text-align: right;\n",
       "    }\n",
       "</style>\n",
       "<table border=\"1\" class=\"dataframe\">\n",
       "  <thead>\n",
       "    <tr style=\"text-align: right;\">\n",
       "      <th></th>\n",
       "      <th>dia_semana</th>\n",
       "      <th>br</th>\n",
       "      <th>condicao_meteorologica</th>\n",
       "      <th>tipo_pista</th>\n",
       "      <th>tracado_via</th>\n",
       "      <th>uso_solo</th>\n",
       "      <th>mortos</th>\n",
       "      <th>feridos_leves</th>\n",
       "      <th>feridos_graves</th>\n",
       "      <th>ilesos</th>\n",
       "      <th>...</th>\n",
       "      <th>feridos</th>\n",
       "      <th>veiculos</th>\n",
       "      <th>feriado</th>\n",
       "      <th>km_bins</th>\n",
       "      <th>periodo</th>\n",
       "      <th>ano</th>\n",
       "      <th>month_number</th>\n",
       "      <th>dia</th>\n",
       "      <th>data</th>\n",
       "      <th>acidentes_graves</th>\n",
       "    </tr>\n",
       "  </thead>\n",
       "  <tbody>\n",
       "    <tr>\n",
       "      <th>0</th>\n",
       "      <td>terca</td>\n",
       "      <td>104</td>\n",
       "      <td>ignorada</td>\n",
       "      <td>dupla</td>\n",
       "      <td>reta</td>\n",
       "      <td>sim</td>\n",
       "      <td>0</td>\n",
       "      <td>0</td>\n",
       "      <td>0</td>\n",
       "      <td>0</td>\n",
       "      <td>...</td>\n",
       "      <td>0</td>\n",
       "      <td>0</td>\n",
       "      <td>not-feriado</td>\n",
       "      <td>[60, 65)</td>\n",
       "      <td>[8, 12)</td>\n",
       "      <td>2019</td>\n",
       "      <td>1</td>\n",
       "      <td>1</td>\n",
       "      <td>2019-01-01 00:00:00</td>\n",
       "      <td>0</td>\n",
       "    </tr>\n",
       "    <tr>\n",
       "      <th>1</th>\n",
       "      <td>terca</td>\n",
       "      <td>104</td>\n",
       "      <td>ignorada</td>\n",
       "      <td>dupla</td>\n",
       "      <td>reta</td>\n",
       "      <td>sim</td>\n",
       "      <td>0</td>\n",
       "      <td>0</td>\n",
       "      <td>0</td>\n",
       "      <td>0</td>\n",
       "      <td>...</td>\n",
       "      <td>0</td>\n",
       "      <td>0</td>\n",
       "      <td>not-feriado</td>\n",
       "      <td>[60, 65)</td>\n",
       "      <td>[16, 20)</td>\n",
       "      <td>2019</td>\n",
       "      <td>1</td>\n",
       "      <td>1</td>\n",
       "      <td>2019-01-01 00:00:00</td>\n",
       "      <td>0</td>\n",
       "    </tr>\n",
       "    <tr>\n",
       "      <th>2</th>\n",
       "      <td>terca</td>\n",
       "      <td>104</td>\n",
       "      <td>ignorada</td>\n",
       "      <td>dupla</td>\n",
       "      <td>reta</td>\n",
       "      <td>sim</td>\n",
       "      <td>0</td>\n",
       "      <td>0</td>\n",
       "      <td>0</td>\n",
       "      <td>0</td>\n",
       "      <td>...</td>\n",
       "      <td>0</td>\n",
       "      <td>0</td>\n",
       "      <td>not-feriado</td>\n",
       "      <td>[60, 65)</td>\n",
       "      <td>[20, 24)</td>\n",
       "      <td>2019</td>\n",
       "      <td>1</td>\n",
       "      <td>1</td>\n",
       "      <td>2019-01-01 00:00:00</td>\n",
       "      <td>0</td>\n",
       "    </tr>\n",
       "    <tr>\n",
       "      <th>3</th>\n",
       "      <td>terca</td>\n",
       "      <td>104</td>\n",
       "      <td>ignorada</td>\n",
       "      <td>dupla</td>\n",
       "      <td>reta</td>\n",
       "      <td>sim</td>\n",
       "      <td>0</td>\n",
       "      <td>0</td>\n",
       "      <td>0</td>\n",
       "      <td>0</td>\n",
       "      <td>...</td>\n",
       "      <td>0</td>\n",
       "      <td>0</td>\n",
       "      <td>not-feriado</td>\n",
       "      <td>[60, 65)</td>\n",
       "      <td>[12, 16)</td>\n",
       "      <td>2019</td>\n",
       "      <td>1</td>\n",
       "      <td>1</td>\n",
       "      <td>2019-01-01 00:00:00</td>\n",
       "      <td>0</td>\n",
       "    </tr>\n",
       "    <tr>\n",
       "      <th>4</th>\n",
       "      <td>terca</td>\n",
       "      <td>104</td>\n",
       "      <td>ignorada</td>\n",
       "      <td>dupla</td>\n",
       "      <td>reta</td>\n",
       "      <td>sim</td>\n",
       "      <td>0</td>\n",
       "      <td>0</td>\n",
       "      <td>0</td>\n",
       "      <td>0</td>\n",
       "      <td>...</td>\n",
       "      <td>0</td>\n",
       "      <td>0</td>\n",
       "      <td>not-feriado</td>\n",
       "      <td>[60, 65)</td>\n",
       "      <td>[4, 8)</td>\n",
       "      <td>2019</td>\n",
       "      <td>1</td>\n",
       "      <td>1</td>\n",
       "      <td>2019-01-01 00:00:00</td>\n",
       "      <td>0</td>\n",
       "    </tr>\n",
       "  </tbody>\n",
       "</table>\n",
       "<p>5 rows × 21 columns</p>\n",
       "</div>"
      ],
      "text/plain": [
       "  dia_semana   br condicao_meteorologica tipo_pista tracado_via uso_solo  \\\n",
       "0      terca  104               ignorada      dupla        reta      sim   \n",
       "1      terca  104               ignorada      dupla        reta      sim   \n",
       "2      terca  104               ignorada      dupla        reta      sim   \n",
       "3      terca  104               ignorada      dupla        reta      sim   \n",
       "4      terca  104               ignorada      dupla        reta      sim   \n",
       "\n",
       "   mortos  feridos_leves  feridos_graves  ilesos  ...  feridos  veiculos  \\\n",
       "0       0              0               0       0  ...        0         0   \n",
       "1       0              0               0       0  ...        0         0   \n",
       "2       0              0               0       0  ...        0         0   \n",
       "3       0              0               0       0  ...        0         0   \n",
       "4       0              0               0       0  ...        0         0   \n",
       "\n",
       "       feriado   km_bins   periodo   ano  month_number  dia  \\\n",
       "0  not-feriado  [60, 65)   [8, 12)  2019             1    1   \n",
       "1  not-feriado  [60, 65)  [16, 20)  2019             1    1   \n",
       "2  not-feriado  [60, 65)  [20, 24)  2019             1    1   \n",
       "3  not-feriado  [60, 65)  [12, 16)  2019             1    1   \n",
       "4  not-feriado  [60, 65)    [4, 8)  2019             1    1   \n",
       "\n",
       "                  data acidentes_graves  \n",
       "0  2019-01-01 00:00:00                0  \n",
       "1  2019-01-01 00:00:00                0  \n",
       "2  2019-01-01 00:00:00                0  \n",
       "3  2019-01-01 00:00:00                0  \n",
       "4  2019-01-01 00:00:00                0  \n",
       "\n",
       "[5 rows x 21 columns]"
      ]
     },
     "execution_count": 9,
     "metadata": {},
     "output_type": "execute_result"
    }
   ],
   "source": [
    "df_tudo_pad.drop(['index','km'], axis=1, inplace=True)\n",
    "df_tudo_pad.head()"
   ]
  },
  {
   "cell_type": "markdown",
   "metadata": {},
   "source": [
    "# Train"
   ]
  },
  {
   "cell_type": "markdown",
   "metadata": {},
   "source": [
    "## Encoding"
   ]
  },
  {
   "cell_type": "code",
   "execution_count": 10,
   "metadata": {},
   "outputs": [],
   "source": [
    "df_enc = df_tudo_pad.copy()\n",
    "\n",
    "# Categorical boolean mask\n",
    "categorical_feature_mask = df_enc.dtypes==object\n",
    "# filter categorical columns using mask and turn it into a list\n",
    "categorical_cols = df_enc.columns[categorical_feature_mask].tolist()\n",
    "\n",
    "les = []\n",
    "\n",
    "# import labelencoder\n",
    "# instantiate labelencoder object\n",
    "\n",
    "for cat_col in categorical_cols:\n",
    "\n",
    "    le = LabelEncoder()\n",
    "    le.fit(df_enc[cat_col])\n",
    "\n",
    "    # apply le on categorical feature columns\n",
    "    df_enc[cat_col] = le.transform(df_enc[cat_col])\n",
    "    \n",
    "    les.append(le)"
   ]
  },
  {
   "cell_type": "code",
   "execution_count": 11,
   "metadata": {},
   "outputs": [
    {
     "data": {
      "text/html": [
       "<div>\n",
       "<style scoped>\n",
       "    .dataframe tbody tr th:only-of-type {\n",
       "        vertical-align: middle;\n",
       "    }\n",
       "\n",
       "    .dataframe tbody tr th {\n",
       "        vertical-align: top;\n",
       "    }\n",
       "\n",
       "    .dataframe thead th {\n",
       "        text-align: right;\n",
       "    }\n",
       "</style>\n",
       "<table border=\"1\" class=\"dataframe\">\n",
       "  <thead>\n",
       "    <tr style=\"text-align: right;\">\n",
       "      <th></th>\n",
       "      <th>dia_semana</th>\n",
       "      <th>br</th>\n",
       "      <th>condicao_meteorologica</th>\n",
       "      <th>tipo_pista</th>\n",
       "      <th>tracado_via</th>\n",
       "      <th>uso_solo</th>\n",
       "      <th>mortos</th>\n",
       "      <th>feridos_leves</th>\n",
       "      <th>feridos_graves</th>\n",
       "      <th>ilesos</th>\n",
       "      <th>...</th>\n",
       "      <th>feridos</th>\n",
       "      <th>veiculos</th>\n",
       "      <th>feriado</th>\n",
       "      <th>km_bins</th>\n",
       "      <th>periodo</th>\n",
       "      <th>ano</th>\n",
       "      <th>month_number</th>\n",
       "      <th>dia</th>\n",
       "      <th>data</th>\n",
       "      <th>acidentes_graves</th>\n",
       "    </tr>\n",
       "  </thead>\n",
       "  <tbody>\n",
       "    <tr>\n",
       "      <th>0</th>\n",
       "      <td>7</td>\n",
       "      <td>104</td>\n",
       "      <td>0</td>\n",
       "      <td>0</td>\n",
       "      <td>6</td>\n",
       "      <td>2</td>\n",
       "      <td>0</td>\n",
       "      <td>0</td>\n",
       "      <td>0</td>\n",
       "      <td>0</td>\n",
       "      <td>...</td>\n",
       "      <td>0</td>\n",
       "      <td>0</td>\n",
       "      <td>1</td>\n",
       "      <td>35</td>\n",
       "      <td>5</td>\n",
       "      <td>2019</td>\n",
       "      <td>1</td>\n",
       "      <td>1</td>\n",
       "      <td>2404</td>\n",
       "      <td>0</td>\n",
       "    </tr>\n",
       "    <tr>\n",
       "      <th>1</th>\n",
       "      <td>7</td>\n",
       "      <td>104</td>\n",
       "      <td>0</td>\n",
       "      <td>0</td>\n",
       "      <td>6</td>\n",
       "      <td>2</td>\n",
       "      <td>0</td>\n",
       "      <td>0</td>\n",
       "      <td>0</td>\n",
       "      <td>0</td>\n",
       "      <td>...</td>\n",
       "      <td>0</td>\n",
       "      <td>0</td>\n",
       "      <td>1</td>\n",
       "      <td>35</td>\n",
       "      <td>2</td>\n",
       "      <td>2019</td>\n",
       "      <td>1</td>\n",
       "      <td>1</td>\n",
       "      <td>2404</td>\n",
       "      <td>0</td>\n",
       "    </tr>\n",
       "    <tr>\n",
       "      <th>2</th>\n",
       "      <td>7</td>\n",
       "      <td>104</td>\n",
       "      <td>0</td>\n",
       "      <td>0</td>\n",
       "      <td>6</td>\n",
       "      <td>2</td>\n",
       "      <td>0</td>\n",
       "      <td>0</td>\n",
       "      <td>0</td>\n",
       "      <td>0</td>\n",
       "      <td>...</td>\n",
       "      <td>0</td>\n",
       "      <td>0</td>\n",
       "      <td>1</td>\n",
       "      <td>35</td>\n",
       "      <td>3</td>\n",
       "      <td>2019</td>\n",
       "      <td>1</td>\n",
       "      <td>1</td>\n",
       "      <td>2404</td>\n",
       "      <td>0</td>\n",
       "    </tr>\n",
       "    <tr>\n",
       "      <th>3</th>\n",
       "      <td>7</td>\n",
       "      <td>104</td>\n",
       "      <td>0</td>\n",
       "      <td>0</td>\n",
       "      <td>6</td>\n",
       "      <td>2</td>\n",
       "      <td>0</td>\n",
       "      <td>0</td>\n",
       "      <td>0</td>\n",
       "      <td>0</td>\n",
       "      <td>...</td>\n",
       "      <td>0</td>\n",
       "      <td>0</td>\n",
       "      <td>1</td>\n",
       "      <td>35</td>\n",
       "      <td>1</td>\n",
       "      <td>2019</td>\n",
       "      <td>1</td>\n",
       "      <td>1</td>\n",
       "      <td>2404</td>\n",
       "      <td>0</td>\n",
       "    </tr>\n",
       "    <tr>\n",
       "      <th>4</th>\n",
       "      <td>7</td>\n",
       "      <td>104</td>\n",
       "      <td>0</td>\n",
       "      <td>0</td>\n",
       "      <td>6</td>\n",
       "      <td>2</td>\n",
       "      <td>0</td>\n",
       "      <td>0</td>\n",
       "      <td>0</td>\n",
       "      <td>0</td>\n",
       "      <td>...</td>\n",
       "      <td>0</td>\n",
       "      <td>0</td>\n",
       "      <td>1</td>\n",
       "      <td>35</td>\n",
       "      <td>4</td>\n",
       "      <td>2019</td>\n",
       "      <td>1</td>\n",
       "      <td>1</td>\n",
       "      <td>2404</td>\n",
       "      <td>0</td>\n",
       "    </tr>\n",
       "  </tbody>\n",
       "</table>\n",
       "<p>5 rows × 21 columns</p>\n",
       "</div>"
      ],
      "text/plain": [
       "   dia_semana   br  condicao_meteorologica  tipo_pista  tracado_via  uso_solo  \\\n",
       "0           7  104                       0           0            6         2   \n",
       "1           7  104                       0           0            6         2   \n",
       "2           7  104                       0           0            6         2   \n",
       "3           7  104                       0           0            6         2   \n",
       "4           7  104                       0           0            6         2   \n",
       "\n",
       "   mortos  feridos_leves  feridos_graves  ilesos  ...  feridos  veiculos  \\\n",
       "0       0              0               0       0  ...        0         0   \n",
       "1       0              0               0       0  ...        0         0   \n",
       "2       0              0               0       0  ...        0         0   \n",
       "3       0              0               0       0  ...        0         0   \n",
       "4       0              0               0       0  ...        0         0   \n",
       "\n",
       "   feriado  km_bins  periodo   ano  month_number  dia  data  acidentes_graves  \n",
       "0        1       35        5  2019             1    1  2404                 0  \n",
       "1        1       35        2  2019             1    1  2404                 0  \n",
       "2        1       35        3  2019             1    1  2404                 0  \n",
       "3        1       35        1  2019             1    1  2404                 0  \n",
       "4        1       35        4  2019             1    1  2404                 0  \n",
       "\n",
       "[5 rows x 21 columns]"
      ]
     },
     "execution_count": 11,
     "metadata": {},
     "output_type": "execute_result"
    }
   ],
   "source": [
    "df_enc.head()"
   ]
  },
  {
   "cell_type": "markdown",
   "metadata": {},
   "source": [
    "### unenconding"
   ]
  },
  {
   "cell_type": "code",
   "execution_count": 12,
   "metadata": {},
   "outputs": [],
   "source": [
    "# for le, cat_col in enumerate(categorical_cols):\n",
    "\n",
    "#     # apply le on categorical feature columns\n",
    "#     df_enc[cat_col] = les[le].inverse_transform(df_enc[cat_col])\n",
    "    \n",
    "# df_enc.head()"
   ]
  },
  {
   "cell_type": "markdown",
   "metadata": {},
   "source": [
    "## balancing"
   ]
  },
  {
   "cell_type": "code",
   "execution_count": 13,
   "metadata": {},
   "outputs": [],
   "source": [
    "X_columns = ['dia_semana', 'br', 'condicao_meteorologica', 'tipo_pista','tracado_via', 'uso_solo','km_bins',\n",
    "             'periodo', 'month_number', 'dia']\n",
    "\n",
    "df_train = df_enc[(df_tudo_pad.ano== 2018) | (df_tudo_pad.ano== 2017)].copy()\n",
    "\n",
    "g = df_train.groupby('acidentes_graves')\n",
    "g = pd.DataFrame(g.apply(lambda x: x.sample(g.size().min()).reset_index(drop=True)))\n",
    "df_train_balanced = g.reset_index(drop=True)\n",
    "        \n",
    "X_train_unbalanced = df_train[X_columns]\n",
    "\n",
    "X_train_balanced = df_train_balanced[X_columns]       \n",
    "y_train_balanced = df_train_balanced['acidentes_graves']"
   ]
  },
  {
   "cell_type": "code",
   "execution_count": 14,
   "metadata": {},
   "outputs": [
    {
     "data": {
      "text/plain": [
       "1    1080\n",
       "0    1080\n",
       "Name: acidentes_graves, dtype: int64"
      ]
     },
     "execution_count": 14,
     "metadata": {},
     "output_type": "execute_result"
    }
   ],
   "source": [
    "y_train_balanced.value_counts()"
   ]
  },
  {
   "cell_type": "code",
   "execution_count": 15,
   "metadata": {},
   "outputs": [],
   "source": [
    "df_test = df_enc[(df_tudo_pad.ano == 2019)].copy()\n",
    "\n",
    "g = df_test.groupby('acidentes_graves')\n",
    "g = pd.DataFrame(g.apply(lambda x: x.sample(g.size().min()).reset_index(drop=True)))\n",
    "df_test_balanced = g.reset_index(drop=True)\n",
    "\n",
    "X_test_balanced = df_test_balanced[X_columns]\n",
    "y_test_balanced = df_test_balanced['acidentes_graves']\n",
    "\n",
    "X_test_unbalanced = df_test[X_columns]\n",
    "y_test_unbalanced = df_test['acidentes_graves']"
   ]
  },
  {
   "cell_type": "code",
   "execution_count": 16,
   "metadata": {},
   "outputs": [
    {
     "data": {
      "text/plain": [
       "1    353\n",
       "0    353\n",
       "Name: acidentes_graves, dtype: int64"
      ]
     },
     "execution_count": 16,
     "metadata": {},
     "output_type": "execute_result"
    }
   ],
   "source": [
    "y_test_balanced.value_counts()"
   ]
  },
  {
   "cell_type": "code",
   "execution_count": 17,
   "metadata": {},
   "outputs": [
    {
     "data": {
      "text/plain": [
       "0    102577\n",
       "1       353\n",
       "Name: acidentes_graves, dtype: int64"
      ]
     },
     "execution_count": 17,
     "metadata": {},
     "output_type": "execute_result"
    }
   ],
   "source": [
    "y_test_unbalanced.value_counts()"
   ]
  },
  {
   "cell_type": "markdown",
   "metadata": {},
   "source": [
    "## Fitiing"
   ]
  },
  {
   "cell_type": "code",
   "execution_count": 30,
   "metadata": {},
   "outputs": [
    {
     "name": "stdout",
     "output_type": "stream",
     "text": [
      "(2160, 10)\n"
     ]
    }
   ],
   "source": [
    "# transformer = MiniBatchDictionaryLearning(n_components=10)\n",
    "# transformer.fit(X_train_balanced)\n",
    "\n",
    "# X_pca = transformer.transform(X_train_balanced)\n",
    "# print(X_pca.shape)"
   ]
  },
  {
   "cell_type": "code",
   "execution_count": 40,
   "metadata": {},
   "outputs": [],
   "source": [
    "clf = xgb.XGBClassifier(objective ='reg:squarederror', colsample_bytree = 1, n_estimators = 200)\n",
    "clf.fit(X_train_balanced, y_train_balanced)\n",
    "y_train_pred = clf.predict(X_train_balanced)"
   ]
  },
  {
   "cell_type": "markdown",
   "metadata": {},
   "source": [
    "# Test"
   ]
  },
  {
   "cell_type": "code",
   "execution_count": 41,
   "metadata": {},
   "outputs": [
    {
     "data": {
      "text/plain": [
       "0.8953703703703704"
      ]
     },
     "execution_count": 41,
     "metadata": {},
     "output_type": "execute_result"
    }
   ],
   "source": [
    "accuracy_score(y_train_pred, y_train_balanced)"
   ]
  },
  {
   "cell_type": "code",
   "execution_count": 43,
   "metadata": {},
   "outputs": [
    {
     "data": {
      "text/plain": [
       "0.8512747875354107"
      ]
     },
     "execution_count": 43,
     "metadata": {},
     "output_type": "execute_result"
    }
   ],
   "source": [
    "y_test_pred = clf.predict(X_test_balanced)\n",
    "accuracy_score(y_test_pred, y_test_balanced)"
   ]
  },
  {
   "cell_type": "code",
   "execution_count": 45,
   "metadata": {},
   "outputs": [],
   "source": [
    "y_test_pred_proba = clf.predict_proba(X_test_balanced)"
   ]
  },
  {
   "cell_type": "code",
   "execution_count": 49,
   "metadata": {},
   "outputs": [],
   "source": [
    "df_test['proba_class_acc'] = clf.predict_proba(X_test_unbalanced)[:,1]"
   ]
  },
  {
   "cell_type": "code",
   "execution_count": 50,
   "metadata": {},
   "outputs": [
    {
     "data": {
      "text/plain": [
       "(353, 145)"
      ]
     },
     "execution_count": 50,
     "metadata": {},
     "output_type": "execute_result"
    }
   ],
   "source": [
    "metrica_avaliacao(df_test, predict_column='proba_class_acc', viaturas = 3)"
   ]
  },
  {
   "cell_type": "code",
   "execution_count": 28,
   "metadata": {},
   "outputs": [
    {
     "data": {
      "text/html": [
       "<div>\n",
       "<style scoped>\n",
       "    .dataframe tbody tr th:only-of-type {\n",
       "        vertical-align: middle;\n",
       "    }\n",
       "\n",
       "    .dataframe tbody tr th {\n",
       "        vertical-align: top;\n",
       "    }\n",
       "\n",
       "    .dataframe thead th {\n",
       "        text-align: right;\n",
       "    }\n",
       "</style>\n",
       "<table border=\"1\" class=\"dataframe\">\n",
       "  <thead>\n",
       "    <tr style=\"text-align: right;\">\n",
       "      <th></th>\n",
       "      <th>dia_semana</th>\n",
       "      <th>br</th>\n",
       "      <th>condicao_meteorologica</th>\n",
       "      <th>tipo_pista</th>\n",
       "      <th>tracado_via</th>\n",
       "      <th>uso_solo</th>\n",
       "      <th>mortos</th>\n",
       "      <th>feridos_leves</th>\n",
       "      <th>feridos_graves</th>\n",
       "      <th>ilesos</th>\n",
       "      <th>...</th>\n",
       "      <th>veiculos</th>\n",
       "      <th>feriado</th>\n",
       "      <th>km_bins</th>\n",
       "      <th>periodo</th>\n",
       "      <th>ano</th>\n",
       "      <th>month_number</th>\n",
       "      <th>dia</th>\n",
       "      <th>data</th>\n",
       "      <th>acidentes_graves</th>\n",
       "      <th>proba_class_acc</th>\n",
       "    </tr>\n",
       "  </thead>\n",
       "  <tbody>\n",
       "    <tr>\n",
       "      <th>0</th>\n",
       "      <td>terca</td>\n",
       "      <td>104</td>\n",
       "      <td>ignorada</td>\n",
       "      <td>dupla</td>\n",
       "      <td>reta</td>\n",
       "      <td>sim</td>\n",
       "      <td>0</td>\n",
       "      <td>0</td>\n",
       "      <td>0</td>\n",
       "      <td>0</td>\n",
       "      <td>...</td>\n",
       "      <td>0</td>\n",
       "      <td>not-feriado</td>\n",
       "      <td>[60, 65)</td>\n",
       "      <td>[8, 12)</td>\n",
       "      <td>2019</td>\n",
       "      <td>1</td>\n",
       "      <td>1</td>\n",
       "      <td>2019-01-01 00:00:00</td>\n",
       "      <td>0</td>\n",
       "      <td>0.66497</td>\n",
       "    </tr>\n",
       "    <tr>\n",
       "      <th>1</th>\n",
       "      <td>terca</td>\n",
       "      <td>104</td>\n",
       "      <td>ignorada</td>\n",
       "      <td>dupla</td>\n",
       "      <td>reta</td>\n",
       "      <td>sim</td>\n",
       "      <td>0</td>\n",
       "      <td>0</td>\n",
       "      <td>0</td>\n",
       "      <td>0</td>\n",
       "      <td>...</td>\n",
       "      <td>0</td>\n",
       "      <td>not-feriado</td>\n",
       "      <td>[60, 65)</td>\n",
       "      <td>[16, 20)</td>\n",
       "      <td>2019</td>\n",
       "      <td>1</td>\n",
       "      <td>1</td>\n",
       "      <td>2019-01-01 00:00:00</td>\n",
       "      <td>0</td>\n",
       "      <td>0.66497</td>\n",
       "    </tr>\n",
       "    <tr>\n",
       "      <th>2</th>\n",
       "      <td>terca</td>\n",
       "      <td>104</td>\n",
       "      <td>ignorada</td>\n",
       "      <td>dupla</td>\n",
       "      <td>reta</td>\n",
       "      <td>sim</td>\n",
       "      <td>0</td>\n",
       "      <td>0</td>\n",
       "      <td>0</td>\n",
       "      <td>0</td>\n",
       "      <td>...</td>\n",
       "      <td>0</td>\n",
       "      <td>not-feriado</td>\n",
       "      <td>[60, 65)</td>\n",
       "      <td>[20, 24)</td>\n",
       "      <td>2019</td>\n",
       "      <td>1</td>\n",
       "      <td>1</td>\n",
       "      <td>2019-01-01 00:00:00</td>\n",
       "      <td>0</td>\n",
       "      <td>0.66497</td>\n",
       "    </tr>\n",
       "    <tr>\n",
       "      <th>3</th>\n",
       "      <td>terca</td>\n",
       "      <td>104</td>\n",
       "      <td>ignorada</td>\n",
       "      <td>dupla</td>\n",
       "      <td>reta</td>\n",
       "      <td>sim</td>\n",
       "      <td>0</td>\n",
       "      <td>0</td>\n",
       "      <td>0</td>\n",
       "      <td>0</td>\n",
       "      <td>...</td>\n",
       "      <td>0</td>\n",
       "      <td>not-feriado</td>\n",
       "      <td>[60, 65)</td>\n",
       "      <td>[12, 16)</td>\n",
       "      <td>2019</td>\n",
       "      <td>1</td>\n",
       "      <td>1</td>\n",
       "      <td>2019-01-01 00:00:00</td>\n",
       "      <td>0</td>\n",
       "      <td>0.66497</td>\n",
       "    </tr>\n",
       "    <tr>\n",
       "      <th>4</th>\n",
       "      <td>terca</td>\n",
       "      <td>104</td>\n",
       "      <td>ignorada</td>\n",
       "      <td>dupla</td>\n",
       "      <td>reta</td>\n",
       "      <td>sim</td>\n",
       "      <td>0</td>\n",
       "      <td>0</td>\n",
       "      <td>0</td>\n",
       "      <td>0</td>\n",
       "      <td>...</td>\n",
       "      <td>0</td>\n",
       "      <td>not-feriado</td>\n",
       "      <td>[60, 65)</td>\n",
       "      <td>[4, 8)</td>\n",
       "      <td>2019</td>\n",
       "      <td>1</td>\n",
       "      <td>1</td>\n",
       "      <td>2019-01-01 00:00:00</td>\n",
       "      <td>0</td>\n",
       "      <td>0.66497</td>\n",
       "    </tr>\n",
       "  </tbody>\n",
       "</table>\n",
       "<p>5 rows × 22 columns</p>\n",
       "</div>"
      ],
      "text/plain": [
       "  dia_semana   br condicao_meteorologica tipo_pista tracado_via uso_solo  \\\n",
       "0      terca  104               ignorada      dupla        reta      sim   \n",
       "1      terca  104               ignorada      dupla        reta      sim   \n",
       "2      terca  104               ignorada      dupla        reta      sim   \n",
       "3      terca  104               ignorada      dupla        reta      sim   \n",
       "4      terca  104               ignorada      dupla        reta      sim   \n",
       "\n",
       "   mortos  feridos_leves  feridos_graves  ilesos  ...  veiculos      feriado  \\\n",
       "0       0              0               0       0  ...         0  not-feriado   \n",
       "1       0              0               0       0  ...         0  not-feriado   \n",
       "2       0              0               0       0  ...         0  not-feriado   \n",
       "3       0              0               0       0  ...         0  not-feriado   \n",
       "4       0              0               0       0  ...         0  not-feriado   \n",
       "\n",
       "    km_bins   periodo   ano month_number  dia                 data  \\\n",
       "0  [60, 65)   [8, 12)  2019            1    1  2019-01-01 00:00:00   \n",
       "1  [60, 65)  [16, 20)  2019            1    1  2019-01-01 00:00:00   \n",
       "2  [60, 65)  [20, 24)  2019            1    1  2019-01-01 00:00:00   \n",
       "3  [60, 65)  [12, 16)  2019            1    1  2019-01-01 00:00:00   \n",
       "4  [60, 65)    [4, 8)  2019            1    1  2019-01-01 00:00:00   \n",
       "\n",
       "   acidentes_graves proba_class_acc  \n",
       "0                 0         0.66497  \n",
       "1                 0         0.66497  \n",
       "2                 0         0.66497  \n",
       "3                 0         0.66497  \n",
       "4                 0         0.66497  \n",
       "\n",
       "[5 rows x 22 columns]"
      ]
     },
     "execution_count": 28,
     "metadata": {},
     "output_type": "execute_result"
    }
   ],
   "source": [
    "for le, cat_col in enumerate(categorical_cols):\n",
    "\n",
    "    # apply le on categorical feature columns\n",
    "    df_test[cat_col] = les[le].inverse_transform(df_test[cat_col])\n",
    "    \n",
    "df_test.head()"
   ]
  },
  {
   "cell_type": "code",
   "execution_count": 29,
   "metadata": {},
   "outputs": [],
   "source": [
    "df_test.to_excel('epa.xlsx')"
   ]
  },
  {
   "cell_type": "code",
   "execution_count": null,
   "metadata": {},
   "outputs": [],
   "source": []
  }
 ],
 "metadata": {
  "kernelspec": {
   "display_name": "Python 3",
   "language": "python",
   "name": "python3"
  },
  "language_info": {
   "codemirror_mode": {
    "name": "ipython",
    "version": 3
   },
   "file_extension": ".py",
   "mimetype": "text/x-python",
   "name": "python",
   "nbconvert_exporter": "python",
   "pygments_lexer": "ipython3",
   "version": "3.7.6"
  }
 },
 "nbformat": 4,
 "nbformat_minor": 4
}
